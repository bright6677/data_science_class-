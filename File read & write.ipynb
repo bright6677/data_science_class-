{
 "cells": [
  {
   "cell_type": "code",
   "execution_count": null,
   "id": "f20629ad",
   "metadata": {},
   "outputs": [],
   "source": [
    "f=open(\"test.txt\",'w')"
   ]
  },
  {
   "cell_type": "code",
   "execution_count": null,
   "id": "b9a3a1b3",
   "metadata": {},
   "outputs": [],
   "source": [
    "f.read()"
   ]
  },
  {
   "cell_type": "code",
   "execution_count": null,
   "id": "718cbe80",
   "metadata": {},
   "outputs": [],
   "source": []
  },
  {
   "cell_type": "code",
   "execution_count": null,
   "id": "30ccc6b6",
   "metadata": {},
   "outputs": [],
   "source": [
    "f.readline()"
   ]
  },
  {
   "cell_type": "code",
   "execution_count": null,
   "id": "346ecdc2",
   "metadata": {},
   "outputs": [],
   "source": [
    "f.close()"
   ]
  },
  {
   "cell_type": "code",
   "execution_count": null,
   "id": "05850b93",
   "metadata": {},
   "outputs": [],
   "source": [
    "! dir"
   ]
  },
  {
   "cell_type": "code",
   "execution_count": null,
   "id": "c107335a",
   "metadata": {},
   "outputs": [],
   "source": [
    "f=open(\"test.txt\")\n",
    "print(f.readline(2))\n",
    "print(f.readline())\n",
    "f.close()"
   ]
  },
  {
   "cell_type": "code",
   "execution_count": null,
   "id": "d05cdcf0",
   "metadata": {},
   "outputs": [],
   "source": [
    "f=open(\"test.txt\")\n",
    "print(f.readline(2))\n",
    "f.close()"
   ]
  },
  {
   "cell_type": "code",
   "execution_count": null,
   "id": "f37c5def",
   "metadata": {},
   "outputs": [],
   "source": [
    "f.write('Hello KMC\\'ians')"
   ]
  },
  {
   "cell_type": "code",
   "execution_count": null,
   "id": "a7745699",
   "metadata": {},
   "outputs": [],
   "source": [
    "f.readable()"
   ]
  },
  {
   "cell_type": "code",
   "execution_count": null,
   "id": "b3104f69",
   "metadata": {},
   "outputs": [],
   "source": [
    "f=open(\"test.txt\",'w')\n",
    "f.close()"
   ]
  },
  {
   "cell_type": "code",
   "execution_count": null,
   "id": "27ef87fb",
   "metadata": {},
   "outputs": [],
   "source": [
    "#append read write"
   ]
  },
  {
   "cell_type": "code",
   "execution_count": null,
   "id": "3daf7554",
   "metadata": {},
   "outputs": [],
   "source": [
    "f=open(\"test.txt\",'a')\n",
    "f.write('Hello KMCians')\n",
    "f.close()"
   ]
  },
  {
   "cell_type": "code",
   "execution_count": null,
   "id": "829f3c8c",
   "metadata": {},
   "outputs": [],
   "source": [
    "f.close()"
   ]
  },
  {
   "cell_type": "code",
   "execution_count": null,
   "id": "7c10e237",
   "metadata": {},
   "outputs": [],
   "source": [
    "f=open(\"kristi.txt\",'a')\n",
    "f.write('Here is ur marks')\n",
    "f.close()"
   ]
  },
  {
   "cell_type": "code",
   "execution_count": null,
   "id": "4d2b15e9",
   "metadata": {},
   "outputs": [],
   "source": [
    "f=open(\"kristi.txt\",'w')\n",
    "f.write('Here is ur marks 99')\n",
    "f.close()"
   ]
  },
  {
   "cell_type": "code",
   "execution_count": null,
   "id": "3122f695",
   "metadata": {},
   "outputs": [],
   "source": [
    "f=open(\"kristi.txt\",'r')\n",
    "f.write('Here is ur marks 100')\n",
    "f.close()"
   ]
  },
  {
   "cell_type": "code",
   "execution_count": null,
   "id": "64ee801d",
   "metadata": {},
   "outputs": [],
   "source": [
    "f=open(\"kristi.txt\",'x')\n",
    "f.write('Here is ur marks')\n",
    "f.close()"
   ]
  },
  {
   "cell_type": "code",
   "execution_count": null,
   "id": "00a054a4",
   "metadata": {},
   "outputs": [],
   "source": [
    "import os\n",
    "os.remove('kristi.txt')"
   ]
  },
  {
   "cell_type": "code",
   "execution_count": null,
   "id": "2c5c0fd5",
   "metadata": {},
   "outputs": [],
   "source": [
    "#utilize import os to turn off your computer after certain hours automatically"
   ]
  },
  {
   "cell_type": "code",
   "execution_count": 5,
   "id": "f37a2827",
   "metadata": {},
   "outputs": [
    {
     "ename": "SyntaxError",
     "evalue": "invalid syntax (3734367280.py, line 5)",
     "output_type": "error",
     "traceback": [
      "\u001b[1;36m  Cell \u001b[1;32mIn[5], line 5\u001b[1;36m\u001b[0m\n\u001b[1;33m    def marksheet():\u001b[0m\n\u001b[1;37m    ^\u001b[0m\n\u001b[1;31mSyntaxError\u001b[0m\u001b[1;31m:\u001b[0m invalid syntax\n"
     ]
    }
   ],
   "source": [
    "#use string formatting to print a main function and after clicking on it it should show marksheet which includes date,name,grade,stream,section\n",
    "f=open(\"test.txt\",'w')\n",
    "f.write \n",
    "(\n",
    "def marksheet():\n",
    "    studentname = input(\"Enter Student Name: \")\n",
    "    subject = input(\"Enter Subject: \")\n",
    "    marksobtained = input(\"Enter Marks Obtained: \")\n",
    "    print(\"Student Name:\", studentname)\n",
    "    print(\"Subject:\", subject)\n",
    "    print(\"Marks Obtained:\", marksobtained)\n",
    "def main_function():\n",
    "    return \"Welcome to view marksheet!\"\n",
    "def a():\n",
    "    print(\"Main Function: {}\".format(main_function()))\n",
    "    print(\"Click here to view the marksheet:\")\n",
    "    marksheet()\n",
    "a()\n",
    ")\n",
    "f.close()\n"
   ]
  },
  {
   "cell_type": "code",
   "execution_count": null,
   "id": "8bd0fe47",
   "metadata": {},
   "outputs": [],
   "source": []
  },
  {
   "cell_type": "code",
   "execution_count": null,
   "id": "ba6e4e77",
   "metadata": {},
   "outputs": [],
   "source": []
  },
  {
   "cell_type": "code",
   "execution_count": null,
   "id": "09fc4c3b",
   "metadata": {},
   "outputs": [],
   "source": []
  },
  {
   "cell_type": "code",
   "execution_count": null,
   "id": "cd383d20",
   "metadata": {},
   "outputs": [],
   "source": []
  }
 ],
 "metadata": {
  "kernelspec": {
   "display_name": "Python 3 (ipykernel)",
   "language": "python",
   "name": "python3"
  },
  "language_info": {
   "codemirror_mode": {
    "name": "ipython",
    "version": 3
   },
   "file_extension": ".py",
   "mimetype": "text/x-python",
   "name": "python",
   "nbconvert_exporter": "python",
   "pygments_lexer": "ipython3",
   "version": "3.11.5"
  }
 },
 "nbformat": 4,
 "nbformat_minor": 5
}

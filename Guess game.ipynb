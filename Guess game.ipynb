{
 "cells": [
  {
   "cell_type": "code",
   "execution_count": null,
   "id": "575c378e",
   "metadata": {},
   "outputs": [],
   "source": []
  },
  {
   "cell_type": "code",
   "execution_count": 5,
   "id": "9eedd8d4",
   "metadata": {},
   "outputs": [
    {
     "name": "stdout",
     "output_type": "stream",
     "text": [
      "Welcome to guess game\n"
     ]
    }
   ],
   "source": [
    "# Guess game menu,score,multiple words,multiple,try again\n",
    "print(\"Welcome to guess game\")\n"
   ]
  },
  {
   "cell_type": "code",
   "execution_count": 42,
   "id": "c65ef175",
   "metadata": {},
   "outputs": [
    {
     "name": "stdout",
     "output_type": "stream",
     "text": [
      "Welcome to the Guess the Animal Game!\n",
      "You have 3 chances to guess the animal.\n",
      "Enter your guess: gsd\n",
      "Hint: It's an animal.\n",
      "You have 2 attempts remaining.\n",
      "Enter your guess: ds\n",
      "Hint: The first letter of the animal is 'G'.\n",
      "You have 1 attempts remaining.\n",
      "Enter your guess: ds\n",
      "Sorry, you've used all your chances. The animal was 'Giraffe'. Try again next time.\n",
      "Do you want to try again? (y/n): y\n",
      "\n",
      "Let's play again!\n",
      "Enter your guess: ds\\\n",
      "Hint: It's an animal.\n",
      "You have 2 attempts remaining.\n",
      "Enter your guess: ds\n",
      "Hint: The first letter of the animal is 'G'.\n",
      "You have 1 attempts remaining.\n",
      "Enter your guess: dsa\n",
      "Sorry, you've used all your chances. The animal was 'Giraffe'. Try again next time.\n",
      "Do you want to try again? (y/n): af\n",
      "Thanks for playing!\n"
     ]
    }
   ],
   "source": [
    "# Guess game\n",
    "word = 'Giraffe'\n",
    "attempts = 3\n",
    "attempt_remaining = True\n",
    "\n",
    "print(\"Welcome to the Guess the Animal Game!\")\n",
    "print(\"You have 3 chances to guess the animal.\")\n",
    "\n",
    "while attempt_remaining:\n",
    "    guess = input(\"Enter your guess: \")\n",
    "\n",
    "    if guess == word:\n",
    "        print(\"Congratulations! You guessed the animal correctly.\")\n",
    "        attempt_remaining = False\n",
    "    else:\n",
    "        attempts -= 1\n",
    "        if attempts == 0:\n",
    "            print(\"Sorry, you've used all your chances. The animal was 'Giraffe'. Try again next time.\")\n",
    "            attempt_remaining = False\n",
    "        else:\n",
    "            if attempts == 2:\n",
    "                print(\"Hint: It's an animal.\")\n",
    "            elif attempts == 1:\n",
    "                print(\"Hint: The first letter of the animal is 'G'.\")\n",
    "            print(f\"You have {attempts} attempts remaining.\")\n",
    "            \n",
    "    if not attempt_remaining:\n",
    "        play_again = input(\"Do you want to try again? (y/n): \")\n",
    "        if play_again == 'y':\n",
    "            attempts = 3\n",
    "            attempt_remaining = True\n",
    "            print(\"\\nLet's play again!\")\n",
    "        else:\n",
    "            print(\"Thanks for playing!\")\n"
   ]
  },
  {
   "cell_type": "code",
   "execution_count": 1,
   "id": "e2728a7a",
   "metadata": {},
   "outputs": [
    {
     "name": "stdout",
     "output_type": "stream",
     "text": [
      "\n",
      "            Sunway International Business School\n",
      "                Maitidevi Kathmandu Nepal\n",
      "Enter the number of students: 43\n",
      "Enter the name of the student [1]: sdfs\n",
      "Enter the address of the student [1]: ewqx\n",
      "Enter the programme of the student [1]: dex\n",
      "Enter the faculty of the student [1]: exc\n",
      "Enter the intake of the student [1]: rer\n",
      "Enter name of course[1] : re\n",
      "Enter the marks of course[1] : rc\n"
     ]
    },
    {
     "ename": "ValueError",
     "evalue": "invalid literal for int() with base 10: 'rc'",
     "output_type": "error",
     "traceback": [
      "\u001b[1;31m---------------------------------------------------------------------------\u001b[0m",
      "\u001b[1;31mValueError\u001b[0m                                Traceback (most recent call last)",
      "Cell \u001b[1;32mIn[1], line 72\u001b[0m\n\u001b[0;32m     70\u001b[0m     gradecalculation(subjectmarks)\n\u001b[0;32m     71\u001b[0m     displayInformation(namel,addressl,programmel,facultyl,intakel,subjectmarks,percentagel,Finalgradel,InitialDisplay)\n\u001b[1;32m---> 72\u001b[0m main()\n",
      "Cell \u001b[1;32mIn[1], line 69\u001b[0m, in \u001b[0;36mmain\u001b[1;34m()\u001b[0m\n\u001b[0;32m     68\u001b[0m \u001b[38;5;28;01mdef\u001b[39;00m \u001b[38;5;21mmain\u001b[39m():\n\u001b[1;32m---> 69\u001b[0m     studentdetails()\n\u001b[0;32m     70\u001b[0m     gradecalculation(subjectmarks)\n\u001b[0;32m     71\u001b[0m     displayInformation(namel,addressl,programmel,facultyl,intakel,subjectmarks,percentagel,Finalgradel,InitialDisplay)\n",
      "Cell \u001b[1;32mIn[1], line 26\u001b[0m, in \u001b[0;36mstudentdetails\u001b[1;34m()\u001b[0m\n\u001b[0;32m     24\u001b[0m subjectmarks\u001b[38;5;241m.\u001b[39mappend([])\n\u001b[0;32m     25\u001b[0m \u001b[38;5;28;01mfor\u001b[39;00m j \u001b[38;5;129;01min\u001b[39;00m \u001b[38;5;28mrange\u001b[39m(\u001b[38;5;241m5\u001b[39m):\n\u001b[1;32m---> 26\u001b[0m     subjectmarks[i]\u001b[38;5;241m.\u001b[39mappend([\u001b[38;5;28minput\u001b[39m(\u001b[38;5;124mf\u001b[39m\u001b[38;5;124m\"\u001b[39m\u001b[38;5;124mEnter name of course[\u001b[39m\u001b[38;5;132;01m{\u001b[39;00mj\u001b[38;5;241m+\u001b[39m\u001b[38;5;241m1\u001b[39m\u001b[38;5;132;01m}\u001b[39;00m\u001b[38;5;124m] : \u001b[39m\u001b[38;5;124m\"\u001b[39m),\u001b[38;5;28mint\u001b[39m(\u001b[38;5;28minput\u001b[39m(\u001b[38;5;124mf\u001b[39m\u001b[38;5;124m\"\u001b[39m\u001b[38;5;124mEnter the marks of course[\u001b[39m\u001b[38;5;132;01m{\u001b[39;00mj\u001b[38;5;241m+\u001b[39m\u001b[38;5;241m1\u001b[39m\u001b[38;5;132;01m}\u001b[39;00m\u001b[38;5;124m] : \u001b[39m\u001b[38;5;124m\"\u001b[39m))])\n",
      "\u001b[1;31mValueError\u001b[0m: invalid literal for int() with base 10: 'rc'"
     ]
    }
   ],
   "source": [
    "InitialDisplay=\"\"\"\n",
    "            Sunway International Business School\n",
    "                Maitidevi Kathmandu Nepal\"\"\"\n",
    "#create empty list \n",
    "namel=[]\n",
    "addressl=[]\n",
    "programmel=[]\n",
    "facultyl=[]\n",
    "intakel=[]\n",
    "percentagel=[]\n",
    "Finalgradel=[]\n",
    "\n",
    "subjectmarks=[]\n",
    "\n",
    "def studentdetails():\n",
    "    print(InitialDisplay)\n",
    "    n=int(input(\"Enter the number of students: \"))\n",
    "    for i in range(n):\n",
    "        namel.append(input(f\"Enter the name of the student [{i+1}]: \"))\n",
    "        addressl.append(input(f\"Enter the address of the student [{i+1}]: \"))\n",
    "        programmel.append(input(f\"Enter the programme of the student [{i+1}]: \"))\n",
    "        facultyl.append(input(f\"Enter the faculty of the student [{i+1}]: \"))\n",
    "        intakel.append(input(f\"Enter the intake of the student [{i+1}]: \"))\n",
    "        subjectmarks.append([])\n",
    "        for j in range(5):\n",
    "            subjectmarks[i].append([input(f\"Enter name of course[{j+1}] : \"),int(input(f\"Enter the marks of course[{j+1}] : \"))])\n",
    "\n",
    "def gradecalculation(subjectmarks):\n",
    "    for i in range(len(subjectmarks)):\n",
    "        total=0\n",
    "        for j in range(5):\n",
    "            total=total+subjectmarks[i][j][1]\n",
    "            percentage=(total/500)*100\n",
    "        percentagel.append(percentage)\n",
    "        if percentage>=90:\n",
    "            Finalgradel.append(\"A+\")\n",
    "        elif percentage>=80:\n",
    "            Finalgradel.append(\"A\")\n",
    "        elif percentage>=70:\n",
    "            Finalgradel.append(\"B+\")\n",
    "        elif percentage>=60:\n",
    "            Finalgradel.append(\"B\")\n",
    "        elif percentage>=50:\n",
    "            Finalgradel.append(\"B-\")\n",
    "        elif percentage>=40:\n",
    "            Finalgradel.append(\"C+\")\n",
    "        elif percentage>=30:\n",
    "            Finalgradel.append(\"C\")\n",
    "        else:\n",
    "            Finalgradel.append(\"F\")\n",
    "\n",
    "def displayInformation(namel,addressl,programmel,facultyl,intakel,subjectmarks,percentagel,Finalgradel,InitialDisplay):\n",
    "    for i in range(len(namel)):\n",
    "        print(\"\\n\")\n",
    "        print(InitialDisplay)\n",
    "        print(\"\\n\\n\")\n",
    "        print(f\"Name of the student: {namel[i]}\\t\\t Address: {addressl[i]}\")\n",
    "        print(f\"Programme of the student: {programmel[i]}\\t\\t Faculty: {facultyl[i]}\")\n",
    "        print(f\"Intake of the student: {intakel[i]}\\n\\n\")\n",
    "        print(\"\\t\\t\\tGrade Sheet\\n\")\n",
    "        print(f\"Course Name\\t\\t\\t\\tMarks\\n\")\n",
    "        for j in range(5):\n",
    "            print(f\"{subjectmarks[i][j][0]}\\t\\t\\t{subjectmarks[i][j][1]}\")\n",
    "        print(\"\\n\")\n",
    "        print(\"Final Grade: \",Finalgradel[i])\n",
    "        print(\"Percentage: \",percentagel[i])\n",
    "\n",
    "def main():\n",
    "    studentdetails()\n",
    "    gradecalculation(subjectmarks)\n",
    "    displayInformation(namel,addressl,programmel,facultyl,intakel,subjectmarks,percentagel,Finalgradel,InitialDisplay)\n",
    "main()\n",
    "\n",
    "\n",
    "\n"
   ]
  },
  {
   "cell_type": "raw",
   "id": "1aa9f7de",
   "metadata": {},
   "source": []
  },
  {
   "cell_type": "code",
   "execution_count": null,
   "id": "5e2f0e4b",
   "metadata": {},
   "outputs": [],
   "source": []
  }
 ],
 "metadata": {
  "kernelspec": {
   "display_name": "Python 3 (ipykernel)",
   "language": "python",
   "name": "python3"
  },
  "language_info": {
   "codemirror_mode": {
    "name": "ipython",
    "version": 3
   },
   "file_extension": ".py",
   "mimetype": "text/x-python",
   "name": "python",
   "nbconvert_exporter": "python",
   "pygments_lexer": "ipython3",
   "version": "3.11.5"
  }
 },
 "nbformat": 4,
 "nbformat_minor": 5
}
